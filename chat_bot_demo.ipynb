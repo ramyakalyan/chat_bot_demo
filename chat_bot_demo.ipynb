{
 "cells": [
  {
   "cell_type": "code",
   "execution_count": null,
   "id": "d25abe83-e983-4e62-b77f-4e15e311ba33",
   "metadata": {},
   "outputs": [],
   "source": [
    "# LLM-Powered Chatbot Demo\n",
    "This notebook demonstrates how to build a simple conversational chatbot using the OpenAI API. The chatbot can respond to user inputs with context, making the interaction more engaging and helpful."
   ]
  },
  {
   "cell_type": "code",
   "execution_count": null,
   "id": "99cb4d68-ef8a-4617-9f26-affd799cf5a7",
   "metadata": {},
   "outputs": [],
   "source": [
    "# Install dependencies\n",
    "!pip install openai"
   ]
  },
  {
   "cell_type": "code",
   "execution_count": 23,
   "id": "f2ec019b-1fc5-4a60-b57a-3bb15c34b6bb",
   "metadata": {},
   "outputs": [],
   "source": [
    "import os\n",
    "\n",
    "# Set up the OpenAI API key\n",
    "# You can input the API key here\n",
    "os.environ[\"OPENAI_API_KEY\"] = input(\"Enter your OpenAI API key: \")"
   ]
  },
  {
   "cell_type": "code",
   "execution_count": 25,
   "id": "bcc73a0e-81c7-40ea-a7d2-8ddc909385f2",
   "metadata": {},
   "outputs": [],
   "source": [
    "import openai\n",
    "\n",
    "# Set the API key\n",
    "openai.api_key = os.getenv(\"OPENAI_API_KEY\")\n",
    "\n",
    "# Check if the API key is set correctly\n",
    "if not openai.api_key:\n",
    "    raise ValueError(\"The API key is not set. Please set the OPENAI_API_KEY environment variable.\")\n"
   ]
  },
  {
   "cell_type": "code",
   "execution_count": 29,
   "id": "50c29172-7067-4e88-8bad-b3fd07f447f5",
   "metadata": {},
   "outputs": [],
   "source": [
    "# Initialize the conversation history\n",
    "conversation_history = [\n",
    "    {\"role\": \"system\", \"content\": \"You are a helpful assistant.\"}\n",
    "]\n",
    "\n",
    "# Function to interact with the OpenAI API\n",
    "def chat_with_openai(prompt):\n",
    "    conversation_history.append({\"role\": \"user\", \"content\": prompt})\n",
    "    response = openai.ChatCompletion.create(\n",
    "        model=\"gpt-3.5-turbo\",\n",
    "        messages=conversation_history\n",
    "    )\n",
    "    answer = response.choices[0].message['content'].strip()\n",
    "    conversation_history.append({\"role\": \"assistant\", \"content\": answer})\n",
    "    return answer\n"
   ]
  },
  {
   "cell_type": "code",
   "execution_count": null,
   "id": "41a5a57e-b07d-42db-8b87-2200e9846ba6",
   "metadata": {},
   "outputs": [],
   "source": [
    "# Main loop for the chatbot\n",
    "print(\"Chatbot ready! Type 'exit' or 'quit' to end the conversation.\")\n",
    "while True:\n",
    "    user_input = input(\"You: \")\n",
    "    if user_input.lower() in [\"exit\", \"quit\"]:\n",
    "        print(\"Goodbye!\")\n",
    "        break\n",
    "    print(f\"Assistant: {chat_with_openai(user_input)}\")\n"
   ]
  }
 ],
 "metadata": {
  "kernelspec": {
   "display_name": "Python 3 (ipykernel)",
   "language": "python",
   "name": "python3"
  },
  "language_info": {
   "codemirror_mode": {
    "name": "ipython",
    "version": 3
   },
   "file_extension": ".py",
   "mimetype": "text/x-python",
   "name": "python",
   "nbconvert_exporter": "python",
   "pygments_lexer": "ipython3",
   "version": "3.12.4"
  }
 },
 "nbformat": 4,
 "nbformat_minor": 5
}
